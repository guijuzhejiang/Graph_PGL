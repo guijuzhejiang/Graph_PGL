{
 "cells": [
  {
   "cell_type": "markdown",
   "metadata": {},
   "source": [
    "# 图与图学习（下）\n",
    "\n",
    "在中篇中，我们了解了图机器学习（GML：Graph Machine Learning）。下面是重头戏，图神经网络（Graph Neural Networks）。\n",
    "我们通过结合论文[A Comprehensive Survey on Graph Neural Networks](https://arxiv.org/abs/1901.00596)来学习现在图神经网络的发展现状。\n",
    "\n",
    "> ## 本案例将包含以下内容：\n",
    "> 一、 什么是图神经网络<br>\n",
    "> 二、 有哪些图神经网络<br>\n",
    "> 三、 图神经网络的应用\n"
   ]
  },
  {
   "cell_type": "markdown",
   "metadata": {},
   "source": [
    "## 一、什么是图神经网络？\n",
    "\n",
    "近年来，人们对深度学习方法在图上的扩展越来越感兴趣。在多方因素的成功推动下，研究人员借鉴了卷积网络、循环网络和深度自动编码器的思想，定义和设计了用于处理图数据的神经网络结构，由此一个新的研究热点——“**图神经网络（Graph Neural Networks，GNN）**”应运而生，本篇文章主要对图神经网络的研究现状进行简单的概述。\n",
    "\n",
    "需要注意的是，图神经网络的研究与图嵌入（对图嵌入不了解的读者可以参考这篇文章[《图嵌入综述》](https://zhuanlan.zhihu.com/p/62629465)）或网络嵌入密切相关，图嵌入或网络嵌入是数据挖掘和机器学习界日益关注的另一个课题。图嵌入旨在通过保留图的网络拓扑结构和节点内容信息，将图中顶点表示为低维向量，以便使用简单的机器学习算法（例如，支持向量机分类）进行处理。许多图嵌入算法通常是无监督的算法，它们可以大致可以划分为三个类别，即矩阵分解、随机游走和深度学习方法。同时图嵌入的深度学习方法也属于图神经网络，包括基于图自动编码器的算法（如DNGR和SDNE）和无监督训练的图卷积神经网络（如GraphSage）。下图描述了图嵌入和图神经网络在本文中的区别。\n",
    "\n",
    "![](https://ai-studio-static-online.cdn.bcebos.com/830a1f6f739c49e4b51c941a6e834ea8e63816a3c9d5471fa1b481a4d0dd1701)\n",
    "\n",
    "## 二、有哪些图神经网络？\n",
    "在本文中，我们将图神经网络划分为五大类别，分别是：图卷积网络（Graph Convolution Networks，GCN）、 图注意力网络（Graph Attention Networks）、图自编码器（ Graph Autoencoders）、图生成网络（ Graph Generative Networks） 和图时空网络（Graph Spatial-temporal Networks）。"
   ]
  },
  {
   "cell_type": "markdown",
   "metadata": {},
   "source": [
    "## 三、 图神经网络的应用\n",
    "### 1. 计算机视觉领域（Computer Vision） \n",
    "图形神经网络的最大应用领域之一是计算机视觉。研究人员在场景图生成、点云分类与分割、动作识别等多个方面探索了利用图结构的方法。\n",
    "\n",
    "在场景图生成中，对象之间的语义关系有助于理解视觉场景背后的语义含义。给定一幅图像，场景图生成模型检测和识别对象，并预测对象对之间的语义关系。另一个应用程序通过生成给定场景图的真实图像来反转该过程。自然语言可以被解析为语义图，其中每个词代表一个对象，这是一个有希望的解决方案，以合成给定的文本描述图像。\n",
    "\n",
    "在点云分类和分割中，点云是激光雷达扫描记录的一组三维点。此任务的解决方案使激光雷达设备能够看到周围的环境，这通常有利于无人驾驶车辆。为了识别点云所描绘的物体，将点云转换为k-最近邻图或叠加图，并利用图论进化网络来探索拓扑结构。\n",
    "\n",
    "在动作识别中，识别视频中包含的人类动作有助于从机器方面更好地理解视频内容。一组解决方案检测视频剪辑中人体关节的位置。由骨骼连接的人体关节自然形成图表。给定人类关节位置的时间序列，应用时空神经网络来学习人类行为模式。\n",
    "\n",
    "此外，图形神经网络在计算机视觉中应用的可能方向也在不断增加。这包括人-物交互、少镜头图像分类、语义分割、视觉推理和问答等。\n",
    "\n",
    "### 2. 推荐系统（Recommender Systems）\n",
    "基于图的推荐系统以项目和用户为节点。通过利用项目与项目、用户与用户、用户与项目之间的关系以及内容信息，基于图的推荐系统能够生成高质量的推荐。推荐系统的关键是评价一个项目对用户的重要性。因此，可以将其转换为一个链路预测问题。目标是预测用户和项目之间丢失的链接。为了解决这个问题，有学者提出了一种基于GCN的图形自动编码器。还有学者结合GCN和RNN，来学习用户对项目评分的隐藏步骤。\n",
    "\n",
    "### 3. 交通（Traffic）\n",
    "交通拥堵已成为现代城市的一个热点社会问题。准确预测交通网络中的交通速度、交通量或道路密度，在路线规划和流量控制中至关重要。有学者采用基于图的时空神经网络方法来解决这些问题。他们模型的输入是一个时空图。在这个时空图中，节点由放置在道路上的传感器表示，边由阈值以上成对节点的距离表示，每个节点都包含一个时间序列作为特征。目标是预测一条道路在时间间隔内的平均速度。另一个有趣的应用是出租车需求预测。这有助于智能交通系统有效利用资源，节约能源。\n",
    "\n",
    "### 4. 生物化学（Chemistry）\n",
    "在化学中，研究人员应用图神经网络研究分子的图结构。在分子图中，原子为图中的节点，化学键为图中的边。节点分类、图形分类和图形生成是分子图的三个主要任务，它们可以用来学习分子指纹、预测分子性质、推断蛋白质结构、合成化合物。\n",
    "\n",
    "### 5. 其他\n",
    "除了以上四个领域外，图神经网络还已被探索可以应用于其他问题，如程序验证、程序推理、社会影响预测、对抗性攻击预防、电子健康记录建模、脑网络、事件检测和组合优化。"
   ]
  },
  {
   "cell_type": "markdown",
   "metadata": {},
   "source": [
    "## 四、 下列是百度图学习PGL框架中提供的十三种图网络学习模型\n",
    "\n",
    "GCN：\t        图卷积网络<br>\n",
    "GAT：\t        基于Attention的图卷积网络<br>\n",
    "GraphSage：\t基于邻居采样的大规模图卷积网络<br>\n",
    "unSup-GraphSage：\t无监督学习的GraphSAGE<br>\n",
    "LINE：\t    基于一阶、二阶邻居的表示学习<br>\n",
    "DeepWalk：\tDFS随机游走的表示学习<br>\n",
    "MetaPath2Vec：\t基于metapath的表示学习<br>\n",
    "Node2Vec：\t结合DFS及BFS的表示学习<br>\n",
    "Struct2Vec：\t基于结构相似的表示学习<br>\n",
    "SGC：\t        简化的图卷积网络<br>\n",
    "GES：\t        加入节点特征的图表示学习方法<br>\n",
    "DGI：\t        基于图卷积网络的无监督表示学习<br>\n",
    "GATNE：\t    基于MessagePassing的异质图表示学习"
   ]
  },
  {
   "cell_type": "markdown",
   "metadata": {},
   "source": [
    "## 参考资料\n",
    "[图神经网络（Graph Neural Networks，GNN）综述](https://zhuanlan.zhihu.com/p/75307407?from_voters_page=true)\n",
    "[论文翻译-A Comprehensive Survey on Graph Neural Networks《图神经网络GNN综述》](https://blog.csdn.net/weixin_35479108/article/details/86308808)\n",
    "[深度学习时代的图模型，清华发文综述图网络](https://www.jiqizhixin.com/articles/122304)\n",
    "[斯坦福大学新课CS224W-2019](https://zhuanlan.zhihu.com/p/98372970)"
   ]
  }
 ],
 "metadata": {
  "kernelspec": {
   "display_name": "Python 3 (ipykernel)",
   "language": "python",
   "name": "python3"
  },
  "language_info": {
   "codemirror_mode": {
    "name": "ipython",
    "version": 3
   },
   "file_extension": ".py",
   "mimetype": "text/x-python",
   "name": "python",
   "nbconvert_exporter": "python",
   "pygments_lexer": "ipython3",
   "version": "3.9.0"
  }
 },
 "nbformat": 4,
 "nbformat_minor": 1
}