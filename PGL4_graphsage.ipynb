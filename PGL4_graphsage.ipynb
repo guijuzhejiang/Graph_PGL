{
 "cells": [
  {
   "cell_type": "markdown",
   "metadata": {
    "collapsed": false
   },
   "source": [
    "## Graphsage 采样代码实践\n",
    "\n",
    "GraphSage的PGL完整代码实现位于 [PGL/examples/graphsage/](https://github.com/PaddlePaddle/PGL/tree/main/examples/graphsage)\n",
    "\n",
    "本次实践将带领大家尝试实现一个简单的graphsage 采样代码实现。"
   ]
  },
  {
   "cell_type": "code",
   "execution_count": 1,
   "metadata": {
    "collapsed": false
   },
   "outputs": [],
   "source": [
    "# 安装依赖\n",
    "# !pip install paddlepaddle==1.8.4\n",
    "!pip install pgl -q"
   ]
  },
  {
   "cell_type": "markdown",
   "metadata": {
    "collapsed": false
   },
   "source": [
    "## 1. 构建graph\n",
    "\n",
    "在实现graphsage采样之前，我们需要构建一个图网络。\n",
    "\n",
    "图网络的构建需要用到Graph类，Graph类的具体实现可以参考 [PGL/pgl/graph.py](https://github.com/PaddlePaddle/PGL/blob/main/pgl/graph.py)\n",
    "\n",
    "下面我们简单展示一下如何构建一个图网络："
   ]
  },
  {
   "cell_type": "code",
   "execution_count": 2,
   "metadata": {
    "collapsed": false
   },
   "outputs": [],
   "source": [
    "import random\n",
    "import numpy as np\n",
    "import pgl\n",
    "import display"
   ]
  },
  {
   "cell_type": "code",
   "execution_count": 3,
   "metadata": {
    "collapsed": false
   },
   "outputs": [],
   "source": [
    "def build_graph():\n",
    "    # 定义节点的个数；每个节点用一个数字表示，即从0~9\n",
    "    num_node = 16\n",
    "    # 添加节点之间的边，每条边用一个tuple表示为: (src, dst)\n",
    "    edge_list = [(2, 0), (1, 0), (3, 0),(4, 0), (5, 0), \n",
    "             (6, 1), (7, 1), (8, 2), (9, 2), (8, 7),\n",
    "             (10, 3), (4, 3), (11, 10), (11, 4), (12, 4),\n",
    "             (13, 5), (14, 5), (15, 5)]\n",
    "\n",
    "    g = pgl.graph.Graph(num_nodes = num_node, edges = edge_list)\n",
    "\n",
    "    return g\n",
    "\n",
    "# 创建一个图对象，用于保存图网络的各种数据。\n",
    "g = build_graph()\n",
    "display.display_graph(g)"
   ]
  },
  {
   "cell_type": "markdown",
   "metadata": {
    "collapsed": false
   },
   "source": [
    "## 2. GraphSage采样函数实现\n",
    "\n",
    "GraphSage的作者提出了采样算法来使得模型能够以Mini-batch的方式进行训练，算法伪代码见[论文](https://cs.stanford.edu/people/jure/pubs/graphsage-nips17.pdf)附录A。\n",
    "\n",
    "- 假设我们要利用中心节点的k阶邻居信息，则在聚合的时候，需要从第k阶邻居传递信息到k-1阶邻居，并依次传递到中心节点。\n",
    "- 采样的过程刚好与此相反，在构造第t轮训练的Mini-batch时，我们从中心节点出发，在前序节点集合中采样$N_t$个邻居节点加入采样集合。\n",
    "- 接着将邻居节点作为新的中心节点继续进行第t-1轮训练的节点采样，以此类推。\n",
    "- 最后将采样到的节点和边一起构造得到子图。\n"
   ]
  },
  {
   "cell_type": "code",
   "execution_count": 4,
   "metadata": {
    "collapsed": false
   },
   "outputs": [],
   "source": [
    "def traverse(item):\n",
    "    \"\"\"traverse\n",
    "    \"\"\"\n",
    "    if isinstance(item, list) or isinstance(item, np.ndarray):\n",
    "        for i in iter(item):\n",
    "            for j in traverse(i):\n",
    "                yield j\n",
    "    else:\n",
    "        yield item\n",
    "\n",
    "def flat_node_and_edge(nodes):\n",
    "    \"\"\"这个函数的目的是为了将 list of numpy array 扁平化成一个list\n",
    "    例如： [array([7, 8, 9]), array([11, 12]), array([13, 15])] --> [7, 8, 9, 11, 12, 13, 15]\n",
    "    \"\"\"\n",
    "    nodes = list(set(traverse(nodes)))\n",
    "    return nodes\n",
    "\n",
    "def graphsage_sample(graph, start_nodes, sample_num):\n",
    "    subgraph_edges = []\n",
    "    # pre_nodes: a list of numpy array, \n",
    "    pre_nodes = graph.sample_predecessor(start_nodes, sample_num)\n",
    "\n",
    "    # 根据采样的子节点， 恢复边\n",
    "    for dst_node, src_nodes in zip(start_nodes, pre_nodes):\n",
    "        for node in src_nodes:\n",
    "            subgraph_edges.append((node, dst_node))\n",
    "\n",
    "    # flat_node_and_edge： 这个函数的目的是为了将 list of numpy array 扁平化成一个list\n",
    "    # [array([7, 8, 9]), array([11, 12]), array([13, 15])] --> [7, 8, 9, 11, 12, 13, 15]\n",
    "    subgraph_nodes = flat_node_and_edge(pre_nodes)\n",
    "\n",
    "    return subgraph_nodes, subgraph_edges\n"
   ]
  },
  {
   "cell_type": "code",
   "execution_count": 5,
   "metadata": {
    "collapsed": false
   },
   "outputs": [],
   "source": [
    "seed = 458\n",
    "np.random.seed(seed)\n",
    "random.seed(seed)\n",
    "\n",
    "start_nodes = [0]\n",
    "\n",
    "layer1_nodes, layer1_edges = graphsage_sample(g, start_nodes, sample_num=3)\n",
    "print('layer1_nodes: ', layer1_nodes)\n",
    "print('layer1_edges: ', layer1_edges)\n",
    "display.display_subgraph(g, {'orange': layer1_nodes}, {'orange': layer1_edges})"
   ]
  },
  {
   "cell_type": "code",
   "execution_count": 6,
   "metadata": {
    "collapsed": false
   },
   "outputs": [],
   "source": [
    "layer2_nodes, layer2_edges = graphsage_sample(g, layer1_nodes, sample_num=2)\n",
    "print('layer2_nodes: ', layer2_nodes)\n",
    "print('layer2_edges: ', layer2_edges)\n",
    "display.display_subgraph(g, {'orange': layer1_nodes, 'Thistle': layer2_nodes}, {'orange': layer1_edges, 'Thistle': layer2_edges})"
   ]
  }
 ],
 "metadata": {
  "kernelspec": {
   "display_name": "PaddlePaddle 1.8.4 (Python 3.5)",
   "language": "python",
   "name": "py35-paddle1.2.0"
  },
  "language_info": {
   "codemirror_mode": {
    "name": "ipython",
    "version": 3
   },
   "file_extension": ".py",
   "mimetype": "text/x-python",
   "name": "python",
   "nbconvert_exporter": "python",
   "pygments_lexer": "ipython3",
   "version": "3.7.4"
  }
 },
 "nbformat": 4,
 "nbformat_minor": 1
}
