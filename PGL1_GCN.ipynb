{
 "cells": [
  {
   "cell_type": "markdown",
   "metadata": {},
   "source": [
    "# 图学习初印象\n",
    "### Part1 什么是图\n",
    "- 图的两个基本元素：点、边\n",
    "- 图是一种描述事物之间联系的语言\n",
    "- 常见的图：社交网络、推荐系统、化学分子结构...\n",
    "\n",
    "### Part2 什么是图学习\n",
    "- 图学习: Graph Learning。深度学习中的一个子领域，处理的数据对象为图。\n",
    "- 与一般深度学习的区别：能够方便地处理不规则数据（树、图），同时也可以处理规则数据（如图像）。"
   ]
  },
  {
   "cell_type": "markdown",
   "metadata": {},
   "source": [
    "### Part3 图学习的应用\n",
    "我们可以把图学习的应用分为节点级别任务、边级别任务、图级别任务。\n",
    "课程中介绍了以下几种任务。\n",
    "- 节点级别任务：金融诈骗检测（典型的节点分类）、自动驾驶中的3D点云目标检测\n",
    "- 边级别任务：推荐系统（典型的边预测）\n",
    "- 图级别任务：气味识别（典型的图分类）、发现“宇宙”\n",
    "\n",
    "做一个小结：\n",
    "![](https://ai-studio-static-online.cdn.bcebos.com/86ffa1763cdd492da8e04b3731c2156dec552e2fcb504f639a9fbd17ba23f949)\n"
   ]
  },
  {
   "cell_type": "markdown",
   "metadata": {},
   "source": [
    "### Part4 图学习是怎么做的\n",
    "- 图游走类算法：通过在图上的游走，获得多个节点序列，再利用 Skip Gram 模型训练得到节点表示（下节课内容）\n",
    "- 图神经网络算法：端到端模型，利用消息传递机制实现。"
   ]
  },
  {
   "cell_type": "markdown",
   "metadata": {},
   "source": [
    "### Part5 PGL 图学习库简介\n",
    "\n",
    "- Github 链接：https://github.com/PaddlePaddle/PGL\n",
    "\n",
    "- API文档： https://pgl.readthedocs.io/en/latest/"
   ]
  },
  {
   "cell_type": "markdown",
   "metadata": {},
   "source": [
    "### Part6 课堂实践：熟悉 PGL 使用"
   ]
  },
  {
   "cell_type": "markdown",
   "metadata": {},
   "source": [
    "#### 1. 环境安装"
   ]
  },
  {
   "cell_type": "code",
   "execution_count": 12,
   "metadata": {},
   "outputs": [
    {
     "name": "stdout",
     "output_type": "stream",
     "text": [
      "Requirement already satisfied: pgl in /home/zzg/anaconda3/envs/py39_DL_cu112/lib/python3.9/site-packages (2.2.2)\r\n",
      "Requirement already satisfied: cython>=0.25.2 in /home/zzg/anaconda3/envs/py39_DL_cu112/lib/python3.9/site-packages (from pgl) (0.29.24)\r\n",
      "Requirement already satisfied: numpy>=1.16.4 in /home/zzg/anaconda3/envs/py39_DL_cu112/lib/python3.9/site-packages (from pgl) (1.20.0)\r\n"
     ]
    }
   ],
   "source": [
    "# 安装 PaddlePaddle 框架，由于 AIStudio 已配置相应环境，无需安装\n",
    "# !pip install paddlepaddle==1.8.5\n",
    "\n",
    "# 安装 PGL 学习库\n",
    "!pip install pgl"
   ]
  },
  {
   "cell_type": "markdown",
   "metadata": {},
   "source": [
    "#### 2. 使用 PGL 来创建一张图\n",
    "\n",
    "假设我们有下面的这一张图，其中包含了10个节点以及14条边。\n",
    "![](https://ai-studio-static-online.cdn.bcebos.com/3c5ea48a7c974c9784912375a70a8e5d731ec67af4004858bfdf8b1449c558d8)\n",
    "\n",
    "我们的目的是，训练一个图模型，使得该图模型可以区分图上的黄色节点和绿色节点。我们可以使用以下代码来构图。"
   ]
  },
  {
   "cell_type": "code",
   "execution_count": 20,
   "metadata": {},
   "outputs": [],
   "source": [
    "import numpy as np\n",
    "\n",
    "import paddle\n",
    "import paddle.nn as nn\n",
    "import paddle.nn.functional as F\n",
    "from paddle.optimizer import Adam\n",
    "import pgl\n",
    "\n",
    "\n",
    "def build_graph():\n",
    "    # define the number of nodes; we can use number to represent every node\n",
    "    num_node = 10\n",
    "    # add edges, we represent all edges as a list of tuple (src, dst)\n",
    "    edge_list = [(2, 0), (2, 1), (3, 1),(4, 0), (5, 0), \n",
    "             (6, 0), (6, 4), (6, 5), (7, 0), (7, 1),\n",
    "             (7, 2), (7, 3), (8, 0), (9, 7)]\n",
    "\n",
    "    # Each node can be represented by a d-dimensional feature vector, here for simple, the feature vectors are randomly generated.\n",
    "    d = 16\n",
    "    feature = np.random.randn(num_node, d).astype(\"float32\")\n",
    "    # each edge has it own weight\n",
    "    edge_feature = np.random.randn(len(edge_list), 1).astype(\"float32\")\n",
    "    \n",
    "    # create a graph\n",
    "    g = pgl.Graph(edges = edge_list,\n",
    "                  num_nodes = num_node,\n",
    "                  node_feat = {'nfeat':feature}, \n",
    "                  edge_feat ={'efeat': edge_feature})\n",
    "\n",
    "    return g\n",
    "g = build_graph()"
   ]
  },
  {
   "cell_type": "markdown",
   "metadata": {},
   "source": [
    "图创建完毕后，我们可以打印出图中的一些信息。"
   ]
  },
  {
   "cell_type": "code",
   "execution_count": 21,
   "metadata": {},
   "outputs": [
    {
     "name": "stdout",
     "output_type": "stream",
     "text": [
      "图中共计 10 个节点\n",
      "图中共计 14 条边\n"
     ]
    }
   ],
   "source": [
    "print('图中共计 %d 个节点' % g.num_nodes)\n",
    "print('图中共计 %d 条边' % g.num_edges)"
   ]
  },
  {
   "cell_type": "markdown",
   "metadata": {},
   "source": [
    "#### 3. 定义图模型\n",
    "\n",
    "创建一个简单的Graph Convolutional Network(GCN)网络。"
   ]
  },
  {
   "cell_type": "code",
   "execution_count": 22,
   "metadata": {},
   "outputs": [],
   "source": [
    "class GCN(nn.Layer):\n",
    "    \"\"\"Implement of GCN\n",
    "    \"\"\"\n",
    "\n",
    "    def __init__(self,\n",
    "                 input_size,\n",
    "                 num_class,\n",
    "                 num_layers=2,\n",
    "                 hidden_size=16,\n",
    "                 **kwargs):\n",
    "        super(GCN, self).__init__()\n",
    "        self.num_class = num_class\n",
    "        self.num_layers = num_layers\n",
    "        self.hidden_size = hidden_size\n",
    "        self.gcns = nn.LayerList()\n",
    "        for i in range(self.num_layers):\n",
    "            if i == 0:\n",
    "                self.gcns.append(\n",
    "                    pgl.nn.GCNConv(\n",
    "                        input_size,\n",
    "                        self.hidden_size,\n",
    "                        activation=\"relu\",\n",
    "                        norm=True))\n",
    "            else:\n",
    "                self.gcns.append(\n",
    "                    pgl.nn.GCNConv(\n",
    "                        self.hidden_size,\n",
    "                        self.hidden_size,\n",
    "                        activation=\"relu\",\n",
    "                        norm=True))\n",
    "                \n",
    "        self.output = nn.Linear(self.hidden_size, self.num_class)\n",
    "    def forward(self, graph, feature):\n",
    "        for m in self.gcns:\n",
    "            feature = m(graph, feature)\n",
    "        logits = self.output(feature)\n",
    "        return logits"
   ]
  },
  {
   "cell_type": "markdown",
   "metadata": {},
   "source": [
    "#### 4. 加标签\n",
    "\n",
    "实现节点二分类，分别用0和1来表示两个类。"
   ]
  },
  {
   "cell_type": "code",
   "execution_count": 23,
   "metadata": {},
   "outputs": [],
   "source": [
    "y = [0,1,1,1,0,0,0,1,0,1]\n",
    "label = np.array(y, dtype=\"float32\")"
   ]
  },
  {
   "cell_type": "markdown",
   "metadata": {},
   "source": [
    "#### 5. 训练"
   ]
  },
  {
   "cell_type": "code",
   "execution_count": 24,
   "metadata": {},
   "outputs": [
    {
     "name": "stderr",
     "output_type": "stream",
     "text": [
      "/home/zzg/anaconda3/envs/py39_DL_cu112/lib/python3.9/site-packages/paddle/tensor/creation.py:130: DeprecationWarning: `np.object` is a deprecated alias for the builtin `object`. To silence this warning, use `object` by itself. Doing this will not modify any behavior and is safe. \n",
      "Deprecated in NumPy 1.20; for more details and guidance: https://numpy.org/devdocs/release/1.20.0-notes.html#deprecations\n",
      "  if data.dtype == np.object:\n",
      "W0104 14:16:04.042857 1655856 device_context.cc:447] Please NOTE: device: 0, GPU Compute Capability: 6.1, Driver API Version: 11.4, Runtime API Version: 10.2\n",
      "W0104 14:16:04.057432 1655856 device_context.cc:465] device: 0, cuDNN Version: 8.1.\n"
     ]
    },
    {
     "name": "stdout",
     "output_type": "stream",
     "text": [
      "epoch: 0 | loss: 0.6382\n",
      "epoch: 1 | loss: 0.5954\n",
      "epoch: 2 | loss: 0.5662\n",
      "epoch: 3 | loss: 0.5404\n",
      "epoch: 4 | loss: 0.5219\n",
      "epoch: 5 | loss: 0.5065\n",
      "epoch: 6 | loss: 0.4946\n",
      "epoch: 7 | loss: 0.4821\n",
      "epoch: 8 | loss: 0.4692\n",
      "epoch: 9 | loss: 0.4546\n",
      "epoch: 10 | loss: 0.4391\n",
      "epoch: 11 | loss: 0.4249\n",
      "epoch: 12 | loss: 0.4132\n",
      "epoch: 13 | loss: 0.4041\n",
      "epoch: 14 | loss: 0.3975\n",
      "epoch: 15 | loss: 0.3929\n",
      "epoch: 16 | loss: 0.3902\n",
      "epoch: 17 | loss: 0.3891\n",
      "epoch: 18 | loss: 0.3890\n",
      "epoch: 19 | loss: 0.3894\n",
      "epoch: 20 | loss: 0.3899\n",
      "epoch: 21 | loss: 0.3901\n",
      "epoch: 22 | loss: 0.3899\n",
      "epoch: 23 | loss: 0.3893\n",
      "epoch: 24 | loss: 0.3885\n",
      "epoch: 25 | loss: 0.3874\n",
      "epoch: 26 | loss: 0.3863\n",
      "epoch: 27 | loss: 0.3853\n",
      "epoch: 28 | loss: 0.3844\n",
      "epoch: 29 | loss: 0.3837\n"
     ]
    }
   ],
   "source": [
    "g = g.tensor()\n",
    "y = paddle.to_tensor(y)\n",
    "gcn = GCN(16, 2)\n",
    "criterion = paddle.nn.loss.CrossEntropyLoss()\n",
    "optim = Adam(learning_rate=0.01, \n",
    "             parameters=gcn.parameters())\n",
    "gcn.train()\n",
    "for epoch in range(30):\n",
    "    logits = gcn(g, g.node_feat['nfeat'])\n",
    "    loss = criterion(logits, y)\n",
    "    loss.backward()\n",
    "    optim.step()\n",
    "    optim.clear_grad()\n",
    "    print(\"epoch: %s | loss: %.4f\" % (epoch, loss.numpy()[0]))\n",
    "    "
   ]
  }
 ],
 "metadata": {
  "kernelspec": {
   "display_name": "Python 3 (ipykernel)",
   "language": "python",
   "name": "python3"
  },
  "language_info": {
   "codemirror_mode": {
    "name": "ipython",
    "version": 3
   },
   "file_extension": ".py",
   "mimetype": "text/x-python",
   "name": "python",
   "nbconvert_exporter": "python",
   "pygments_lexer": "ipython3",
   "version": "3.9.0"
  }
 },
 "nbformat": 4,
 "nbformat_minor": 1
}